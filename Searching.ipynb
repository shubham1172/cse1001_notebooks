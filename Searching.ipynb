{
 "cells": [
  {
   "cell_type": "markdown",
   "metadata": {},
   "source": [
    "# Searching"
   ]
  },
  {
   "cell_type": "markdown",
   "metadata": {},
   "source": [
    "## Linear Search\n",
    "Algorithm\n",
    "- Start with the first element of the array and compare the item one by one\n",
    "- If item matches the array element, return position\n",
    "- If no element matches item, return -1\n",
    "\n",
    "Complexity: O(n)"
   ]
  },
  {
   "cell_type": "markdown",
   "metadata": {},
   "source": [
    "Implement the following function below."
   ]
  },
  {
   "cell_type": "code",
   "execution_count": null,
   "metadata": {},
   "outputs": [],
   "source": [
    "def linear_search(arr, item):\n",
    "    \"\"\"\n",
    "    arr: the array of elements to be searched in\n",
    "    item: the item to be searched\n",
    "    \"\"\"\n",
    "    # traverse\n",
    "    for i in range(0, len(arr)):\n",
    "        # compare item\n",
    "        if arr[i] == item:\n",
    "            # return the index\n",
    "            return i\n",
    "    # item not found\n",
    "    return -1"
   ]
  },
  {
   "cell_type": "markdown",
   "metadata": {},
   "source": [
    "Testing your code:\n",
    "(For the given array, output should be 5)"
   ]
  },
  {
   "cell_type": "code",
   "execution_count": null,
   "metadata": {},
   "outputs": [],
   "source": [
    "arr = [5,10,12,13,15,17,19,22]    # array of numbers\n",
    "item = 11                         # item to be searched\n",
    "\n",
    "pos = binary_search(arr, item, 0, len(arr))    # search\n",
    "\n",
    "if pos == -1:\n",
    "    print(\"Item not found!\")\n",
    "else:\n",
    "    print(\"Item found at %d\" % pos)"
   ]
  },
  {
   "cell_type": "markdown",
   "metadata": {},
   "source": [
    "## Binary Search\n",
    "Algorithm\n",
    "* Take the center element of the array and compare with the item\n",
    "* If item is equal to the center element, return position\n",
    "* Else, if item is less than the center element, repeat the search in the left half of the array\n",
    "* Else, if item is greater than the center element, repeat the search in the right half of the array\n",
    "* If array gets exhausted and item doesn’t match, item is not found\n",
    "\n",
    "Complexity: O(log(n))\n"
   ]
  },
  {
   "cell_type": "code",
   "execution_count": null,
   "metadata": {},
   "outputs": [],
   "source": [
    "def binary_search(arr, item, left, right):\n",
    "    \"\"\"\n",
    "    arr: the sorted array of elements to be searched in\n",
    "    item: the item to be searched\n",
    "    \"\"\"\n",
    "        \n",
    "    center_index = (left+right)//2\n",
    "    # print(\"Left %d, Right %d, Center %d\" % (left, right, center_index))\n",
    "    \n",
    "    if right < left:\n",
    "        return -1\n",
    "    \n",
    "    center = arr[center_index]\n",
    "    if item == center:\n",
    "        return center_index\n",
    "    elif item < center:\n",
    "        return binary_search(arr, item, left, center_index-1)\n",
    "    elif item > center:\n",
    "        return binary_search(arr, item, center_index+1, right)"
   ]
  },
  {
   "cell_type": "markdown",
   "metadata": {},
   "source": [
    "Use the same test snippet above to test this function. Change the search call from linear_search(arr, item) to binary_search(arr, item)."
   ]
  },
  {
   "cell_type": "markdown",
   "metadata": {},
   "source": [
    "## Comparing the two algorithms!"
   ]
  },
  {
   "cell_type": "code",
   "execution_count": null,
   "metadata": {},
   "outputs": [],
   "source": [
    "import random\n",
    "import timeit\n",
    "\n",
    "def wrapper(func, *args, **kwargs):\n",
    "    def wrapped():\n",
    "        return func(*args, **kwargs)\n",
    "    return wrapped\n",
    "\n",
    "large_array = sorted([random.randint(0, 100) for _ in range(100)])\n",
    "item = 100\n",
    "\n",
    "print(\"Linear search: %.6f s\" % timeit.timeit(wrapper(linear_search, large_array, item)))\n",
    "print(\"Binary search: %.6f s\" % timeit.timeit(wrapper(binary_search, large_array, item, 0, len(large_array))))"
   ]
  }
 ],
 "metadata": {
  "kernelspec": {
   "display_name": "Python 3",
   "language": "python",
   "name": "python3"
  },
  "language_info": {
   "codemirror_mode": {
    "name": "ipython",
    "version": 3
   },
   "file_extension": ".py",
   "mimetype": "text/x-python",
   "name": "python",
   "nbconvert_exporter": "python",
   "pygments_lexer": "ipython3",
   "version": "3.6.5"
  }
 },
 "nbformat": 4,
 "nbformat_minor": 2
}
